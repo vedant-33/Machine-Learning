{
 "cells": [
  {
   "cell_type": "code",
   "execution_count": 1,
   "id": "d2feb7bb",
   "metadata": {
    "_cell_guid": "b1076dfc-b9ad-4769-8c92-a6c4dae69d19",
    "_uuid": "8f2839f25d086af736a60e9eeb907d3b93b6e0e5",
    "execution": {
     "iopub.execute_input": "2024-10-27T10:18:34.745289Z",
     "iopub.status.busy": "2024-10-27T10:18:34.744867Z",
     "iopub.status.idle": "2024-10-27T10:18:37.433162Z",
     "shell.execute_reply": "2024-10-27T10:18:37.431966Z"
    },
    "papermill": {
     "duration": 2.696067,
     "end_time": "2024-10-27T10:18:37.435700",
     "exception": false,
     "start_time": "2024-10-27T10:18:34.739633",
     "status": "completed"
    },
    "tags": []
   },
   "outputs": [
    {
     "name": "stdout",
     "output_type": "stream",
     "text": [
      "/kaggle/input/explore-car-performance-fuel-efficiency-data/car_data.csv\n"
     ]
    }
   ],
   "source": [
    "import numpy as np \n",
    "import pandas as pd\n",
    "import matplotlib.pyplot as plt\n",
    "import seaborn as sns\n",
    "from sklearn.model_selection import train_test_split\n",
    "\n",
    "import os\n",
    "for dirname, _, filenames in os.walk('/kaggle/input'):\n",
    "    for filename in filenames:\n",
    "        print(os.path.join(dirname, filename))\n"
   ]
  },
  {
   "cell_type": "code",
   "execution_count": 2,
   "id": "80019d8f",
   "metadata": {
    "execution": {
     "iopub.execute_input": "2024-10-27T10:18:37.445156Z",
     "iopub.status.busy": "2024-10-27T10:18:37.444065Z",
     "iopub.status.idle": "2024-10-27T10:18:37.483232Z",
     "shell.execute_reply": "2024-10-27T10:18:37.482160Z"
    },
    "papermill": {
     "duration": 0.04599,
     "end_time": "2024-10-27T10:18:37.485525",
     "exception": false,
     "start_time": "2024-10-27T10:18:37.439535",
     "status": "completed"
    },
    "tags": []
   },
   "outputs": [
    {
     "data": {
      "text/html": [
       "<div>\n",
       "<style scoped>\n",
       "    .dataframe tbody tr th:only-of-type {\n",
       "        vertical-align: middle;\n",
       "    }\n",
       "\n",
       "    .dataframe tbody tr th {\n",
       "        vertical-align: top;\n",
       "    }\n",
       "\n",
       "    .dataframe thead th {\n",
       "        text-align: right;\n",
       "    }\n",
       "</style>\n",
       "<table border=\"1\" class=\"dataframe\">\n",
       "  <thead>\n",
       "    <tr style=\"text-align: right;\">\n",
       "      <th></th>\n",
       "      <th>city_mpg</th>\n",
       "      <th>class</th>\n",
       "      <th>combination_mpg</th>\n",
       "      <th>cylinders</th>\n",
       "      <th>displacement</th>\n",
       "      <th>drive</th>\n",
       "      <th>fuel_type</th>\n",
       "      <th>highway_mpg</th>\n",
       "      <th>make</th>\n",
       "      <th>model</th>\n",
       "      <th>transmission</th>\n",
       "      <th>year</th>\n",
       "    </tr>\n",
       "  </thead>\n",
       "  <tbody>\n",
       "    <tr>\n",
       "      <th>0</th>\n",
       "      <td>25</td>\n",
       "      <td>midsize car</td>\n",
       "      <td>29</td>\n",
       "      <td>4.0</td>\n",
       "      <td>2.5</td>\n",
       "      <td>fwd</td>\n",
       "      <td>gas</td>\n",
       "      <td>36</td>\n",
       "      <td>mazda</td>\n",
       "      <td>6</td>\n",
       "      <td>m</td>\n",
       "      <td>2014</td>\n",
       "    </tr>\n",
       "    <tr>\n",
       "      <th>1</th>\n",
       "      <td>26</td>\n",
       "      <td>midsize car</td>\n",
       "      <td>30</td>\n",
       "      <td>4.0</td>\n",
       "      <td>2.5</td>\n",
       "      <td>fwd</td>\n",
       "      <td>gas</td>\n",
       "      <td>37</td>\n",
       "      <td>mazda</td>\n",
       "      <td>6</td>\n",
       "      <td>a</td>\n",
       "      <td>2014</td>\n",
       "    </tr>\n",
       "    <tr>\n",
       "      <th>2</th>\n",
       "      <td>25</td>\n",
       "      <td>small sport utility vehicle</td>\n",
       "      <td>27</td>\n",
       "      <td>4.0</td>\n",
       "      <td>2.5</td>\n",
       "      <td>fwd</td>\n",
       "      <td>gas</td>\n",
       "      <td>31</td>\n",
       "      <td>mazda</td>\n",
       "      <td>cx-5 2wd</td>\n",
       "      <td>a</td>\n",
       "      <td>2014</td>\n",
       "    </tr>\n",
       "    <tr>\n",
       "      <th>3</th>\n",
       "      <td>26</td>\n",
       "      <td>small sport utility vehicle</td>\n",
       "      <td>29</td>\n",
       "      <td>4.0</td>\n",
       "      <td>2.0</td>\n",
       "      <td>fwd</td>\n",
       "      <td>gas</td>\n",
       "      <td>34</td>\n",
       "      <td>mazda</td>\n",
       "      <td>cx-5 2wd</td>\n",
       "      <td>m</td>\n",
       "      <td>2014</td>\n",
       "    </tr>\n",
       "    <tr>\n",
       "      <th>4</th>\n",
       "      <td>26</td>\n",
       "      <td>small sport utility vehicle</td>\n",
       "      <td>28</td>\n",
       "      <td>4.0</td>\n",
       "      <td>2.0</td>\n",
       "      <td>fwd</td>\n",
       "      <td>gas</td>\n",
       "      <td>32</td>\n",
       "      <td>mazda</td>\n",
       "      <td>cx-5 2wd</td>\n",
       "      <td>a</td>\n",
       "      <td>2014</td>\n",
       "    </tr>\n",
       "  </tbody>\n",
       "</table>\n",
       "</div>"
      ],
      "text/plain": [
       "   city_mpg                        class  combination_mpg  cylinders  \\\n",
       "0        25                  midsize car               29        4.0   \n",
       "1        26                  midsize car               30        4.0   \n",
       "2        25  small sport utility vehicle               27        4.0   \n",
       "3        26  small sport utility vehicle               29        4.0   \n",
       "4        26  small sport utility vehicle               28        4.0   \n",
       "\n",
       "   displacement drive fuel_type  highway_mpg   make     model transmission  \\\n",
       "0           2.5   fwd       gas           36  mazda         6            m   \n",
       "1           2.5   fwd       gas           37  mazda         6            a   \n",
       "2           2.5   fwd       gas           31  mazda  cx-5 2wd            a   \n",
       "3           2.0   fwd       gas           34  mazda  cx-5 2wd            m   \n",
       "4           2.0   fwd       gas           32  mazda  cx-5 2wd            a   \n",
       "\n",
       "   year  \n",
       "0  2014  \n",
       "1  2014  \n",
       "2  2014  \n",
       "3  2014  \n",
       "4  2014  "
      ]
     },
     "execution_count": 2,
     "metadata": {},
     "output_type": "execute_result"
    }
   ],
   "source": [
    "cars= pd.read_csv('/kaggle/input/explore-car-performance-fuel-efficiency-data/car_data.csv')\n",
    "cars.head()"
   ]
  },
  {
   "cell_type": "code",
   "execution_count": 3,
   "id": "02e92ba0",
   "metadata": {
    "execution": {
     "iopub.execute_input": "2024-10-27T10:18:37.494456Z",
     "iopub.status.busy": "2024-10-27T10:18:37.493689Z",
     "iopub.status.idle": "2024-10-27T10:18:37.502778Z",
     "shell.execute_reply": "2024-10-27T10:18:37.501376Z"
    },
    "papermill": {
     "duration": 0.015828,
     "end_time": "2024-10-27T10:18:37.504960",
     "exception": false,
     "start_time": "2024-10-27T10:18:37.489132",
     "status": "completed"
    },
    "tags": []
   },
   "outputs": [
    {
     "name": "stdout",
     "output_type": "stream",
     "text": [
      "city_mpg           0\n",
      "class              0\n",
      "combination_mpg    0\n",
      "cylinders          2\n",
      "displacement       2\n",
      "drive              0\n",
      "fuel_type          0\n",
      "highway_mpg        0\n",
      "make               0\n",
      "model              0\n",
      "transmission       0\n",
      "year               0\n",
      "dtype: int64\n",
      "(550, 12)\n"
     ]
    }
   ],
   "source": [
    "print(cars.isnull().sum())\n",
    "print(cars.shape)"
   ]
  },
  {
   "cell_type": "code",
   "execution_count": 4,
   "id": "69ecc315",
   "metadata": {
    "execution": {
     "iopub.execute_input": "2024-10-27T10:18:37.514072Z",
     "iopub.status.busy": "2024-10-27T10:18:37.513254Z",
     "iopub.status.idle": "2024-10-27T10:18:37.538150Z",
     "shell.execute_reply": "2024-10-27T10:18:37.537039Z"
    },
    "papermill": {
     "duration": 0.031981,
     "end_time": "2024-10-27T10:18:37.540569",
     "exception": false,
     "start_time": "2024-10-27T10:18:37.508588",
     "status": "completed"
    },
    "tags": []
   },
   "outputs": [
    {
     "name": "stdout",
     "output_type": "stream",
     "text": [
      "<class 'pandas.core.frame.DataFrame'>\n",
      "RangeIndex: 550 entries, 0 to 549\n",
      "Data columns (total 12 columns):\n",
      " #   Column           Non-Null Count  Dtype  \n",
      "---  ------           --------------  -----  \n",
      " 0   city_mpg         550 non-null    int64  \n",
      " 1   class            550 non-null    object \n",
      " 2   combination_mpg  550 non-null    int64  \n",
      " 3   cylinders        548 non-null    float64\n",
      " 4   displacement     548 non-null    float64\n",
      " 5   drive            550 non-null    object \n",
      " 6   fuel_type        550 non-null    object \n",
      " 7   highway_mpg      550 non-null    int64  \n",
      " 8   make             550 non-null    object \n",
      " 9   model            550 non-null    object \n",
      " 10  transmission     550 non-null    object \n",
      " 11  year             550 non-null    int64  \n",
      "dtypes: float64(2), int64(4), object(6)\n",
      "memory usage: 51.7+ KB\n"
     ]
    }
   ],
   "source": [
    "cars.info()"
   ]
  },
  {
   "cell_type": "code",
   "execution_count": 5,
   "id": "d791b60c",
   "metadata": {
    "execution": {
     "iopub.execute_input": "2024-10-27T10:18:37.550219Z",
     "iopub.status.busy": "2024-10-27T10:18:37.549287Z",
     "iopub.status.idle": "2024-10-27T10:18:37.564335Z",
     "shell.execute_reply": "2024-10-27T10:18:37.563351Z"
    },
    "papermill": {
     "duration": 0.022332,
     "end_time": "2024-10-27T10:18:37.566582",
     "exception": false,
     "start_time": "2024-10-27T10:18:37.544250",
     "status": "completed"
    },
    "tags": []
   },
   "outputs": [
    {
     "name": "stdout",
     "output_type": "stream",
     "text": [
      "<class 'pandas.core.frame.DataFrame'>\n",
      "Index: 548 entries, 0 to 549\n",
      "Data columns (total 12 columns):\n",
      " #   Column           Non-Null Count  Dtype  \n",
      "---  ------           --------------  -----  \n",
      " 0   city_mpg         548 non-null    int64  \n",
      " 1   class            548 non-null    object \n",
      " 2   combination_mpg  548 non-null    int64  \n",
      " 3   cylinders        548 non-null    float64\n",
      " 4   displacement     548 non-null    float64\n",
      " 5   drive            548 non-null    object \n",
      " 6   fuel_type        548 non-null    object \n",
      " 7   highway_mpg      548 non-null    int64  \n",
      " 8   make             548 non-null    object \n",
      " 9   model            548 non-null    object \n",
      " 10  transmission     548 non-null    object \n",
      " 11  year             548 non-null    int64  \n",
      "dtypes: float64(2), int64(4), object(6)\n",
      "memory usage: 55.7+ KB\n"
     ]
    }
   ],
   "source": [
    "#instead of dropping missing values, replacing missing values with mean\n",
    "# cars.fillna({\n",
    "#     'cylinders': cars['cylinders'].mean(),\n",
    "#     'displacement':cars['displacement'].mean(),\n",
    "# },inplace=True) #changes in the same dataframe\n",
    "cars=cars.dropna()\n",
    "cars.info()"
   ]
  },
  {
   "cell_type": "code",
   "execution_count": 6,
   "id": "5b58ff94",
   "metadata": {
    "execution": {
     "iopub.execute_input": "2024-10-27T10:18:37.575396Z",
     "iopub.status.busy": "2024-10-27T10:18:37.575011Z",
     "iopub.status.idle": "2024-10-27T10:18:37.599759Z",
     "shell.execute_reply": "2024-10-27T10:18:37.598743Z"
    },
    "papermill": {
     "duration": 0.031692,
     "end_time": "2024-10-27T10:18:37.602050",
     "exception": false,
     "start_time": "2024-10-27T10:18:37.570358",
     "status": "completed"
    },
    "tags": []
   },
   "outputs": [
    {
     "data": {
      "text/html": [
       "<div>\n",
       "<style scoped>\n",
       "    .dataframe tbody tr th:only-of-type {\n",
       "        vertical-align: middle;\n",
       "    }\n",
       "\n",
       "    .dataframe tbody tr th {\n",
       "        vertical-align: top;\n",
       "    }\n",
       "\n",
       "    .dataframe thead th {\n",
       "        text-align: right;\n",
       "    }\n",
       "</style>\n",
       "<table border=\"1\" class=\"dataframe\">\n",
       "  <thead>\n",
       "    <tr style=\"text-align: right;\">\n",
       "      <th></th>\n",
       "      <th>city_mpg</th>\n",
       "      <th>class</th>\n",
       "      <th>combination_mpg</th>\n",
       "      <th>cylinders</th>\n",
       "      <th>displacement</th>\n",
       "      <th>drive</th>\n",
       "      <th>fuel_type</th>\n",
       "      <th>highway_mpg</th>\n",
       "      <th>make</th>\n",
       "      <th>model</th>\n",
       "      <th>transmission</th>\n",
       "      <th>year</th>\n",
       "    </tr>\n",
       "  </thead>\n",
       "  <tbody>\n",
       "    <tr>\n",
       "      <th>0</th>\n",
       "      <td>25</td>\n",
       "      <td>2.0</td>\n",
       "      <td>29</td>\n",
       "      <td>1.0</td>\n",
       "      <td>2.5</td>\n",
       "      <td>fwd</td>\n",
       "      <td>1.0</td>\n",
       "      <td>36</td>\n",
       "      <td>19.0</td>\n",
       "      <td>6</td>\n",
       "      <td>1.0</td>\n",
       "      <td>2014</td>\n",
       "    </tr>\n",
       "    <tr>\n",
       "      <th>1</th>\n",
       "      <td>26</td>\n",
       "      <td>2.0</td>\n",
       "      <td>30</td>\n",
       "      <td>1.0</td>\n",
       "      <td>2.5</td>\n",
       "      <td>fwd</td>\n",
       "      <td>1.0</td>\n",
       "      <td>37</td>\n",
       "      <td>19.0</td>\n",
       "      <td>6</td>\n",
       "      <td>0.0</td>\n",
       "      <td>2014</td>\n",
       "    </tr>\n",
       "    <tr>\n",
       "      <th>2</th>\n",
       "      <td>25</td>\n",
       "      <td>7.0</td>\n",
       "      <td>27</td>\n",
       "      <td>1.0</td>\n",
       "      <td>2.5</td>\n",
       "      <td>fwd</td>\n",
       "      <td>1.0</td>\n",
       "      <td>31</td>\n",
       "      <td>19.0</td>\n",
       "      <td>cx-5 2wd</td>\n",
       "      <td>0.0</td>\n",
       "      <td>2014</td>\n",
       "    </tr>\n",
       "    <tr>\n",
       "      <th>3</th>\n",
       "      <td>26</td>\n",
       "      <td>7.0</td>\n",
       "      <td>29</td>\n",
       "      <td>1.0</td>\n",
       "      <td>2.0</td>\n",
       "      <td>fwd</td>\n",
       "      <td>1.0</td>\n",
       "      <td>34</td>\n",
       "      <td>19.0</td>\n",
       "      <td>cx-5 2wd</td>\n",
       "      <td>1.0</td>\n",
       "      <td>2014</td>\n",
       "    </tr>\n",
       "    <tr>\n",
       "      <th>4</th>\n",
       "      <td>26</td>\n",
       "      <td>7.0</td>\n",
       "      <td>28</td>\n",
       "      <td>1.0</td>\n",
       "      <td>2.0</td>\n",
       "      <td>fwd</td>\n",
       "      <td>1.0</td>\n",
       "      <td>32</td>\n",
       "      <td>19.0</td>\n",
       "      <td>cx-5 2wd</td>\n",
       "      <td>0.0</td>\n",
       "      <td>2014</td>\n",
       "    </tr>\n",
       "  </tbody>\n",
       "</table>\n",
       "</div>"
      ],
      "text/plain": [
       "   city_mpg  class  combination_mpg  cylinders  displacement drive  fuel_type  \\\n",
       "0        25    2.0               29        1.0           2.5   fwd        1.0   \n",
       "1        26    2.0               30        1.0           2.5   fwd        1.0   \n",
       "2        25    7.0               27        1.0           2.5   fwd        1.0   \n",
       "3        26    7.0               29        1.0           2.0   fwd        1.0   \n",
       "4        26    7.0               28        1.0           2.0   fwd        1.0   \n",
       "\n",
       "   highway_mpg  make     model  transmission  year  \n",
       "0           36  19.0         6           1.0  2014  \n",
       "1           37  19.0         6           0.0  2014  \n",
       "2           31  19.0  cx-5 2wd           0.0  2014  \n",
       "3           34  19.0  cx-5 2wd           1.0  2014  \n",
       "4           32  19.0  cx-5 2wd           0.0  2014  "
      ]
     },
     "execution_count": 6,
     "metadata": {},
     "output_type": "execute_result"
    }
   ],
   "source": [
    "#one hot encoding of categorical features\n",
    "categorical_categories= ['transmission','make','class','fuel_type','cylinders']\n",
    "from sklearn.preprocessing import OrdinalEncoder\n",
    "\n",
    "# Initialize OrdinalEncoder\n",
    "ordinal_encoder = OrdinalEncoder()\n",
    "\n",
    "# Fit and transform\n",
    "cars[categorical_categories] = ordinal_encoder.fit_transform(cars[categorical_categories])\n",
    "\n",
    "cars.head()"
   ]
  },
  {
   "cell_type": "code",
   "execution_count": 7,
   "id": "3dcf0f00",
   "metadata": {
    "execution": {
     "iopub.execute_input": "2024-10-27T10:18:37.611513Z",
     "iopub.status.busy": "2024-10-27T10:18:37.611146Z",
     "iopub.status.idle": "2024-10-27T10:18:37.951571Z",
     "shell.execute_reply": "2024-10-27T10:18:37.950314Z"
    },
    "papermill": {
     "duration": 0.347745,
     "end_time": "2024-10-27T10:18:37.953893",
     "exception": false,
     "start_time": "2024-10-27T10:18:37.606148",
     "status": "completed"
    },
    "tags": []
   },
   "outputs": [
    {
     "data": {
      "image/png": "[encoded data removed]",
      "text/plain": [
       "<Figure size 1000x600 with 1 Axes>"
      ]
     },
     "metadata": {},
     "output_type": "display_data"
    }
   ],
   "source": [
    "plt.figure(figsize=(10, 6))\n",
    "sns.boxplot(data=cars, orient=\"h\")\n",
    "plt.title(\"Box Plot for Every Variable\")\n",
    "plt.show()\n",
    "###no outliers"
   ]
  },
  {
   "cell_type": "code",
   "execution_count": 8,
   "id": "35501e12",
   "metadata": {
    "execution": {
     "iopub.execute_input": "2024-10-27T10:18:37.965931Z",
     "iopub.status.busy": "2024-10-27T10:18:37.965543Z",
     "iopub.status.idle": "2024-10-27T10:18:38.147106Z",
     "shell.execute_reply": "2024-10-27T10:18:38.145974Z"
    },
    "papermill": {
     "duration": 0.190963,
     "end_time": "2024-10-27T10:18:38.149436",
     "exception": false,
     "start_time": "2024-10-27T10:18:37.958473",
     "status": "completed"
    },
    "tags": []
   },
   "outputs": [
    {
     "name": "stdout",
     "output_type": "stream",
     "text": [
      "city_mpg: 1244.63\n",
      "highway_mpg: 338.09\n",
      "displacement: 75.96\n",
      "cylinders: 55.62\n",
      "class: 6.13\n",
      "make: 4.04\n",
      "transmission: 3.23\n",
      "year: 2.33\n"
     ]
    }
   ],
   "source": [
    "f_drop=['combination_mpg','drive','model','fuel_type']\n",
    "features= cars.drop(columns=f_drop,axis=1)\n",
    "target= cars['combination_mpg']\n",
    "\n",
    "\n",
    "from sklearn.feature_selection import SelectKBest, f_classif\n",
    "\n",
    "k_best= SelectKBest(score_func=f_classif, k=7)\n",
    "\n",
    "X= k_best.fit_transform(features, target)\n",
    "y= target\n",
    "\n",
    "#indices of the selected features\n",
    "selected_features_indices = k_best.get_support(indices=True)\n",
    "\n",
    "#scores associated with each feature\n",
    "feature_scores = k_best.scores_\n",
    "\n",
    "#list of tuples containing feature names and scores\n",
    "feature_info = list(zip(features.columns, feature_scores))\n",
    "\n",
    "# Sort features based on scores\n",
    "sorted_feature_info = sorted(feature_info, key=lambda x: x[1], reverse=True)\n",
    "\n",
    "for feature_name, feature_score in sorted_feature_info[:10]:\n",
    "    print(f\"{feature_name}: {feature_score:.2f}\")\n"
   ]
  },
  {
   "cell_type": "code",
   "execution_count": 9,
   "id": "ca99531b",
   "metadata": {
    "execution": {
     "iopub.execute_input": "2024-10-27T10:18:38.160363Z",
     "iopub.status.busy": "2024-10-27T10:18:38.159700Z",
     "iopub.status.idle": "2024-10-27T10:18:38.469350Z",
     "shell.execute_reply": "2024-10-27T10:18:38.468156Z"
    },
    "papermill": {
     "duration": 0.319351,
     "end_time": "2024-10-27T10:18:38.473350",
     "exception": false,
     "start_time": "2024-10-27T10:18:38.153999",
     "status": "completed"
    },
    "tags": []
   },
   "outputs": [
    {
     "name": "stdout",
     "output_type": "stream",
     "text": [
      "Best Parameters: {'poly_features__degree': 2}\n",
      "Best Cross-Validation Score: 1.00\n"
     ]
    }
   ],
   "source": [
    "f_drop2= ['year','transmission','make','class']\n",
    "features= features.drop(f_drop2,axis=1)\n",
    "\n",
    "from sklearn.pipeline import Pipeline\n",
    "from sklearn.preprocessing import PolynomialFeatures\n",
    "from sklearn.linear_model import LinearRegression\n",
    "from sklearn.model_selection import GridSearchCV\n",
    "\n",
    "\n",
    "pipeline = Pipeline([\n",
    "    ('poly_features', PolynomialFeatures()), \n",
    "    ('linear_reg', LinearRegression())\n",
    "])\n",
    "\n",
    "X_train, X_test, y_train, y_test = train_test_split(features, target, test_size=0.3, random_state=69)\n",
    "\n",
    "\n",
    "param_grid = {\n",
    "    'poly_features__degree': [2, 3, 4, 5]  #polynomial degrees\n",
    "}\n",
    "\n",
    "grid_search = GridSearchCV(pipeline, param_grid, cv=5)\n",
    "grid_search.fit(X_train, y_train)\n",
    "print(f\"Best Parameters: {grid_search.best_params_}\")\n",
    "print(f\"Best Cross-Validation Score: {grid_search.best_score_:.2f}\")"
   ]
  },
  {
   "cell_type": "code",
   "execution_count": 10,
   "id": "720ff134",
   "metadata": {
    "execution": {
     "iopub.execute_input": "2024-10-27T10:18:38.501322Z",
     "iopub.status.busy": "2024-10-27T10:18:38.500635Z",
     "iopub.status.idle": "2024-10-27T10:18:38.530367Z",
     "shell.execute_reply": "2024-10-27T10:18:38.529225Z"
    },
    "papermill": {
     "duration": 0.041374,
     "end_time": "2024-10-27T10:18:38.532734",
     "exception": false,
     "start_time": "2024-10-27T10:18:38.491360",
     "status": "completed"
    },
    "tags": []
   },
   "outputs": [
    {
     "name": "stdout",
     "output_type": "stream",
     "text": [
      "Mean Squared Error: 0.15\n",
      "R^2 Score: 0.99\n"
     ]
    }
   ],
   "source": [
    "# best_model = grid_search.best_estimator_\n",
    "best_model= LinearRegression()\n",
    "best_model.fit(X_train, y_train)\n",
    "\n",
    "y_pred = best_model.predict(X_test)\n",
    "from sklearn.metrics import mean_squared_error, r2_score\n",
    "\n",
    "mse = mean_squared_error(y_test, y_pred)\n",
    "r2 = r2_score(y_test, y_pred)\n",
    "\n",
    "print(f\"Mean Squared Error: {mse:.2f}\")\n",
    "print(f\"R^2 Score: {r2:.2f}\")"
   ]
  }
 ],
 "metadata": {
  "kaggle": {
   "accelerator": "none",
   "dataSources": [
    {
     "datasetId": 5896002,
     "sourceId": 9652480,
     "sourceType": "datasetVersion"
    }
   ],
   "dockerImageVersionId": 30786,
   "isGpuEnabled": false,
   "isInternetEnabled": false,
   "language": "python",
   "sourceType": "notebook"
  },
  "kernelspec": {
   "display_name": "Python 3",
   "language": "python",
   "name": "python3"
  },
  "language_info": {
   "codemirror_mode": {
    "name": "ipython",
    "version": 3
   },
   "file_extension": ".py",
   "mimetype": "text/x-python",
   "name": "python",
   "nbconvert_exporter": "python",
   "pygments_lexer": "ipython3",
   "version": "3.10.14"
  },
  "papermill": {
   "default_parameters": {},
   "duration": 7.008204,
   "end_time": "2024-10-27T10:18:39.159690",
   "environment_variables": {},
   "exception": null,
   "input_path": "__notebook__.ipynb",
   "output_path": "__notebook__.ipynb",
   "parameters": {},
   "start_time": "2024-10-27T10:18:32.151486",
   "version": "2.6.0"
  }
 },
 "nbformat": 4,
 "nbformat_minor": 5
}
