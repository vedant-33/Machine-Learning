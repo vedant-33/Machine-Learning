{
 "cells": [
  {
   "cell_type": "code",
   "execution_count": 1,
   "id": "e23a53ff",
   "metadata": {
    "_cell_guid": "b1076dfc-b9ad-4769-8c92-a6c4dae69d19",
    "_uuid": "8f2839f25d086af736a60e9eeb907d3b93b6e0e5",
    "execution": {
     "iopub.execute_input": "2024-10-23T13:21:13.644627Z",
     "iopub.status.busy": "2024-10-23T13:21:13.643244Z",
     "iopub.status.idle": "2024-10-23T13:21:16.861607Z",
     "shell.execute_reply": "2024-10-23T13:21:16.860392Z"
    },
    "papermill": {
     "duration": 3.229904,
     "end_time": "2024-10-23T13:21:16.864416",
     "exception": false,
     "start_time": "2024-10-23T13:21:13.634512",
     "status": "completed"
    },
    "tags": []
   },
   "outputs": [],
   "source": [
    "import pandas as pd\n",
    "import numpy as np\n",
    "import matplotlib.pyplot as plt\n",
    "import seaborn as sns\n",
    "#from ydata_profiling import ProfileReport\n",
    "from sklearn.model_selection import train_test_split\n",
    "from sklearn.feature_selection import SelectKBest, f_classif\n",
    "import warnings\n",
    "warnings.filterwarnings('ignore')\n",
    "\n",
    "%matplotlib inline"
   ]
  },
  {
   "cell_type": "code",
   "execution_count": 2,
   "id": "ccb52026",
   "metadata": {
    "execution": {
     "iopub.execute_input": "2024-10-23T13:21:16.877720Z",
     "iopub.status.busy": "2024-10-23T13:21:16.877107Z",
     "iopub.status.idle": "2024-10-23T13:21:17.097869Z",
     "shell.execute_reply": "2024-10-23T13:21:17.096637Z"
    },
    "papermill": {
     "duration": 0.230756,
     "end_time": "2024-10-23T13:21:17.100935",
     "exception": false,
     "start_time": "2024-10-23T13:21:16.870179",
     "status": "completed"
    },
    "tags": []
   },
   "outputs": [
    {
     "name": "stdout",
     "output_type": "stream",
     "text": [
      "(36285, 16)\n"
     ]
    },
    {
     "data": {
      "text/html": [
       "<div>\n",
       "<style scoped>\n",
       "    .dataframe tbody tr th:only-of-type {\n",
       "        vertical-align: middle;\n",
       "    }\n",
       "\n",
       "    .dataframe tbody tr th {\n",
       "        vertical-align: top;\n",
       "    }\n",
       "\n",
       "    .dataframe thead th {\n",
       "        text-align: right;\n",
       "    }\n",
       "</style>\n",
       "<table border=\"1\" class=\"dataframe\">\n",
       "  <thead>\n",
       "    <tr style=\"text-align: right;\">\n",
       "      <th></th>\n",
       "      <th>number of adults</th>\n",
       "      <th>number of children</th>\n",
       "      <th>number of weekend nights</th>\n",
       "      <th>number of week nights</th>\n",
       "      <th>type of meal</th>\n",
       "      <th>car parking space</th>\n",
       "      <th>room type</th>\n",
       "      <th>lead time</th>\n",
       "      <th>market segment type</th>\n",
       "      <th>repeated</th>\n",
       "      <th>P-C</th>\n",
       "      <th>P-not-C</th>\n",
       "      <th>average price</th>\n",
       "      <th>special requests</th>\n",
       "      <th>date of reservation</th>\n",
       "      <th>booking status</th>\n",
       "    </tr>\n",
       "  </thead>\n",
       "  <tbody>\n",
       "    <tr>\n",
       "      <th>1</th>\n",
       "      <td>1</td>\n",
       "      <td>1</td>\n",
       "      <td>2</td>\n",
       "      <td>5</td>\n",
       "      <td>Meal Plan 1</td>\n",
       "      <td>0</td>\n",
       "      <td>Room_Type 1</td>\n",
       "      <td>224</td>\n",
       "      <td>Offline</td>\n",
       "      <td>0</td>\n",
       "      <td>0</td>\n",
       "      <td>0</td>\n",
       "      <td>88.00</td>\n",
       "      <td>0</td>\n",
       "      <td>10/2/2015</td>\n",
       "      <td>Not_Canceled</td>\n",
       "    </tr>\n",
       "    <tr>\n",
       "      <th>2</th>\n",
       "      <td>1</td>\n",
       "      <td>0</td>\n",
       "      <td>1</td>\n",
       "      <td>3</td>\n",
       "      <td>Not Selected</td>\n",
       "      <td>0</td>\n",
       "      <td>Room_Type 1</td>\n",
       "      <td>5</td>\n",
       "      <td>Online</td>\n",
       "      <td>0</td>\n",
       "      <td>0</td>\n",
       "      <td>0</td>\n",
       "      <td>106.68</td>\n",
       "      <td>1</td>\n",
       "      <td>11/6/2018</td>\n",
       "      <td>Not_Canceled</td>\n",
       "    </tr>\n",
       "    <tr>\n",
       "      <th>3</th>\n",
       "      <td>2</td>\n",
       "      <td>1</td>\n",
       "      <td>1</td>\n",
       "      <td>3</td>\n",
       "      <td>Meal Plan 1</td>\n",
       "      <td>0</td>\n",
       "      <td>Room_Type 1</td>\n",
       "      <td>1</td>\n",
       "      <td>Online</td>\n",
       "      <td>0</td>\n",
       "      <td>0</td>\n",
       "      <td>0</td>\n",
       "      <td>50.00</td>\n",
       "      <td>0</td>\n",
       "      <td>2/28/2018</td>\n",
       "      <td>Canceled</td>\n",
       "    </tr>\n",
       "    <tr>\n",
       "      <th>4</th>\n",
       "      <td>1</td>\n",
       "      <td>0</td>\n",
       "      <td>0</td>\n",
       "      <td>2</td>\n",
       "      <td>Meal Plan 1</td>\n",
       "      <td>0</td>\n",
       "      <td>Room_Type 1</td>\n",
       "      <td>211</td>\n",
       "      <td>Online</td>\n",
       "      <td>0</td>\n",
       "      <td>0</td>\n",
       "      <td>0</td>\n",
       "      <td>100.00</td>\n",
       "      <td>1</td>\n",
       "      <td>5/20/2017</td>\n",
       "      <td>Canceled</td>\n",
       "    </tr>\n",
       "    <tr>\n",
       "      <th>5</th>\n",
       "      <td>1</td>\n",
       "      <td>0</td>\n",
       "      <td>1</td>\n",
       "      <td>2</td>\n",
       "      <td>Not Selected</td>\n",
       "      <td>0</td>\n",
       "      <td>Room_Type 1</td>\n",
       "      <td>48</td>\n",
       "      <td>Online</td>\n",
       "      <td>0</td>\n",
       "      <td>0</td>\n",
       "      <td>0</td>\n",
       "      <td>77.00</td>\n",
       "      <td>0</td>\n",
       "      <td>4/11/2018</td>\n",
       "      <td>Canceled</td>\n",
       "    </tr>\n",
       "  </tbody>\n",
       "</table>\n",
       "</div>"
      ],
      "text/plain": [
       "   number of adults  number of children  number of weekend nights  \\\n",
       "1                 1                   1                         2   \n",
       "2                 1                   0                         1   \n",
       "3                 2                   1                         1   \n",
       "4                 1                   0                         0   \n",
       "5                 1                   0                         1   \n",
       "\n",
       "   number of week nights  type of meal  car parking space    room type  \\\n",
       "1                      5   Meal Plan 1                  0  Room_Type 1   \n",
       "2                      3  Not Selected                  0  Room_Type 1   \n",
       "3                      3   Meal Plan 1                  0  Room_Type 1   \n",
       "4                      2   Meal Plan 1                  0  Room_Type 1   \n",
       "5                      2  Not Selected                  0  Room_Type 1   \n",
       "\n",
       "   lead time market segment type  repeated  P-C  P-not-C  average price  \\\n",
       "1        224             Offline         0    0        0          88.00   \n",
       "2          5              Online         0    0        0         106.68   \n",
       "3          1              Online         0    0        0          50.00   \n",
       "4        211              Online         0    0        0         100.00   \n",
       "5         48              Online         0    0        0          77.00   \n",
       "\n",
       "   special requests date of reservation booking status  \n",
       "1                 0           10/2/2015   Not_Canceled  \n",
       "2                 1           11/6/2018   Not_Canceled  \n",
       "3                 0           2/28/2018       Canceled  \n",
       "4                 1           5/20/2017       Canceled  \n",
       "5                 0           4/11/2018       Canceled  "
      ]
     },
     "execution_count": 2,
     "metadata": {},
     "output_type": "execute_result"
    }
   ],
   "source": [
    "booking= pd.read_csv('/kaggle/input/hotel-booking-cancellation-prediction/booking.csv')\n",
    "booking.drop(['Booking_ID'], inplace=True, axis=1)\n",
    "booking.index += 1\n",
    "\n",
    "print(booking.shape)\n",
    "booking.head()"
   ]
  },
  {
   "cell_type": "code",
   "execution_count": 3,
   "id": "36e94c3d",
   "metadata": {
    "execution": {
     "iopub.execute_input": "2024-10-23T13:21:17.115414Z",
     "iopub.status.busy": "2024-10-23T13:21:17.114942Z",
     "iopub.status.idle": "2024-10-23T13:21:17.148733Z",
     "shell.execute_reply": "2024-10-23T13:21:17.147272Z"
    },
    "papermill": {
     "duration": 0.043863,
     "end_time": "2024-10-23T13:21:17.151373",
     "exception": false,
     "start_time": "2024-10-23T13:21:17.107510",
     "status": "completed"
    },
    "tags": []
   },
   "outputs": [
    {
     "name": "stdout",
     "output_type": "stream",
     "text": [
      "<class 'pandas.core.frame.DataFrame'>\n",
      "RangeIndex: 36285 entries, 1 to 36285\n",
      "Data columns (total 16 columns):\n",
      " #   Column                    Non-Null Count  Dtype  \n",
      "---  ------                    --------------  -----  \n",
      " 0   number of adults          36285 non-null  int64  \n",
      " 1   number of children        36285 non-null  int64  \n",
      " 2   number of weekend nights  36285 non-null  int64  \n",
      " 3   number of week nights     36285 non-null  int64  \n",
      " 4   type of meal              36285 non-null  object \n",
      " 5   car parking space         36285 non-null  int64  \n",
      " 6   room type                 36285 non-null  object \n",
      " 7   lead time                 36285 non-null  int64  \n",
      " 8   market segment type       36285 non-null  object \n",
      " 9   repeated                  36285 non-null  int64  \n",
      " 10  P-C                       36285 non-null  int64  \n",
      " 11  P-not-C                   36285 non-null  int64  \n",
      " 12  average price             36285 non-null  float64\n",
      " 13  special requests          36285 non-null  int64  \n",
      " 14  date of reservation       36285 non-null  object \n",
      " 15  booking status            36285 non-null  object \n",
      "dtypes: float64(1), int64(10), object(5)\n",
      "memory usage: 4.4+ MB\n"
     ]
    }
   ],
   "source": [
    "booking.info()"
   ]
  },
  {
   "cell_type": "code",
   "execution_count": 4,
   "id": "8a58f038",
   "metadata": {
    "execution": {
     "iopub.execute_input": "2024-10-23T13:21:17.166178Z",
     "iopub.status.busy": "2024-10-23T13:21:17.164952Z",
     "iopub.status.idle": "2024-10-23T13:21:17.183562Z",
     "shell.execute_reply": "2024-10-23T13:21:17.182377Z"
    },
    "papermill": {
     "duration": 0.028669,
     "end_time": "2024-10-23T13:21:17.186262",
     "exception": false,
     "start_time": "2024-10-23T13:21:17.157593",
     "status": "completed"
    },
    "tags": []
   },
   "outputs": [
    {
     "data": {
      "text/plain": [
       "number of adults            0\n",
       "number of children          0\n",
       "number of weekend nights    0\n",
       "number of week nights       0\n",
       "type of meal                0\n",
       "car parking space           0\n",
       "room type                   0\n",
       "lead time                   0\n",
       "market segment type         0\n",
       "repeated                    0\n",
       "P-C                         0\n",
       "P-not-C                     0\n",
       "average price               0\n",
       "special requests            0\n",
       "date of reservation         0\n",
       "booking status              0\n",
       "dtype: int64"
      ]
     },
     "execution_count": 4,
     "metadata": {},
     "output_type": "execute_result"
    }
   ],
   "source": [
    "booking.isnull().sum().sort_values(ascending=False)\n",
    "##print null values"
   ]
  },
  {
   "cell_type": "code",
   "execution_count": 5,
   "id": "855d35ac",
   "metadata": {
    "execution": {
     "iopub.execute_input": "2024-10-23T13:21:17.200693Z",
     "iopub.status.busy": "2024-10-23T13:21:17.200288Z",
     "iopub.status.idle": "2024-10-23T13:21:17.826573Z",
     "shell.execute_reply": "2024-10-23T13:21:17.824973Z"
    },
    "papermill": {
     "duration": 0.636494,
     "end_time": "2024-10-23T13:21:17.829166",
     "exception": false,
     "start_time": "2024-10-23T13:21:17.192672",
     "status": "completed"
    },
    "tags": []
   },
   "outputs": [
    {
     "data": {
      "image/png": "[encoded data removed]",
      "text/plain": [
       "<Figure size 1200x800 with 1 Axes>"
      ]
     },
     "metadata": {},
     "output_type": "display_data"
    },
    {
     "name": "stdout",
     "output_type": "stream",
     "text": [
      "(36285, 16)\n"
     ]
    }
   ],
   "source": [
    "#detecting outlier columns\n",
    "plt.figure(figsize=(12, 8))\n",
    "sns.set(style=\"darkgrid\")\n",
    "sns.boxplot(data=booking, orient=\"h\")\n",
    "plt.title(\"Box Plot for Every Variable\")\n",
    "plt.show()\n",
    "print(booking.shape)"
   ]
  },
  {
   "cell_type": "code",
   "execution_count": 6,
   "id": "e10f3a2d",
   "metadata": {
    "execution": {
     "iopub.execute_input": "2024-10-23T13:21:17.846866Z",
     "iopub.status.busy": "2024-10-23T13:21:17.846304Z",
     "iopub.status.idle": "2024-10-23T13:21:17.872354Z",
     "shell.execute_reply": "2024-10-23T13:21:17.871135Z"
    },
    "papermill": {
     "duration": 0.038624,
     "end_time": "2024-10-23T13:21:17.875208",
     "exception": false,
     "start_time": "2024-10-23T13:21:17.836584",
     "status": "completed"
    },
    "tags": []
   },
   "outputs": [],
   "source": [
    "#remove outliers using 1.5*IQR method\n",
    "outlier_cols=['average price', 'lead time']\n",
    "for col in outlier_cols:\n",
    "    if booking[col].dtype in ['int64', 'float64']:\n",
    "        q1= booking[col].quantile(0.25)\n",
    "        q3= booking[col].quantile(0.75)\n",
    "        iqr= q3-q1\n",
    "        lower_bound= q1- 1.5*iqr\n",
    "        upper_bound= q3+ 1.5*iqr\n",
    "\n",
    "        booking= booking[(booking[col]>=lower_bound) & (booking[col]<=upper_bound)]"
   ]
  },
  {
   "cell_type": "code",
   "execution_count": 7,
   "id": "21f0a69d",
   "metadata": {
    "execution": {
     "iopub.execute_input": "2024-10-23T13:21:17.891952Z",
     "iopub.status.busy": "2024-10-23T13:21:17.891047Z",
     "iopub.status.idle": "2024-10-23T13:21:17.926352Z",
     "shell.execute_reply": "2024-10-23T13:21:17.925008Z"
    },
    "papermill": {
     "duration": 0.046565,
     "end_time": "2024-10-23T13:21:17.929116",
     "exception": false,
     "start_time": "2024-10-23T13:21:17.882551",
     "status": "completed"
    },
    "tags": []
   },
   "outputs": [
    {
     "data": {
      "text/html": [
       "<div>\n",
       "<style scoped>\n",
       "    .dataframe tbody tr th:only-of-type {\n",
       "        vertical-align: middle;\n",
       "    }\n",
       "\n",
       "    .dataframe tbody tr th {\n",
       "        vertical-align: top;\n",
       "    }\n",
       "\n",
       "    .dataframe thead th {\n",
       "        text-align: right;\n",
       "    }\n",
       "</style>\n",
       "<table border=\"1\" class=\"dataframe\">\n",
       "  <thead>\n",
       "    <tr style=\"text-align: right;\">\n",
       "      <th></th>\n",
       "      <th>number of adults</th>\n",
       "      <th>number of children</th>\n",
       "      <th>number of weekend nights</th>\n",
       "      <th>number of week nights</th>\n",
       "      <th>type of meal</th>\n",
       "      <th>car parking space</th>\n",
       "      <th>room type</th>\n",
       "      <th>lead time</th>\n",
       "      <th>market segment type</th>\n",
       "      <th>repeated</th>\n",
       "      <th>P-C</th>\n",
       "      <th>P-not-C</th>\n",
       "      <th>average price</th>\n",
       "      <th>special requests</th>\n",
       "      <th>date of reservation</th>\n",
       "      <th>booking status</th>\n",
       "    </tr>\n",
       "  </thead>\n",
       "  <tbody>\n",
       "    <tr>\n",
       "      <th>1</th>\n",
       "      <td>1</td>\n",
       "      <td>1</td>\n",
       "      <td>2</td>\n",
       "      <td>5</td>\n",
       "      <td>Meal Plan 1</td>\n",
       "      <td>0</td>\n",
       "      <td>Room_Type 1</td>\n",
       "      <td>224</td>\n",
       "      <td>Offline</td>\n",
       "      <td>0</td>\n",
       "      <td>0</td>\n",
       "      <td>0</td>\n",
       "      <td>88.00</td>\n",
       "      <td>0</td>\n",
       "      <td>10/2/2015</td>\n",
       "      <td>0</td>\n",
       "    </tr>\n",
       "    <tr>\n",
       "      <th>2</th>\n",
       "      <td>1</td>\n",
       "      <td>0</td>\n",
       "      <td>1</td>\n",
       "      <td>3</td>\n",
       "      <td>Not Selected</td>\n",
       "      <td>0</td>\n",
       "      <td>Room_Type 1</td>\n",
       "      <td>5</td>\n",
       "      <td>Online</td>\n",
       "      <td>0</td>\n",
       "      <td>0</td>\n",
       "      <td>0</td>\n",
       "      <td>106.68</td>\n",
       "      <td>1</td>\n",
       "      <td>11/6/2018</td>\n",
       "      <td>0</td>\n",
       "    </tr>\n",
       "    <tr>\n",
       "      <th>3</th>\n",
       "      <td>2</td>\n",
       "      <td>1</td>\n",
       "      <td>1</td>\n",
       "      <td>3</td>\n",
       "      <td>Meal Plan 1</td>\n",
       "      <td>0</td>\n",
       "      <td>Room_Type 1</td>\n",
       "      <td>1</td>\n",
       "      <td>Online</td>\n",
       "      <td>0</td>\n",
       "      <td>0</td>\n",
       "      <td>0</td>\n",
       "      <td>50.00</td>\n",
       "      <td>0</td>\n",
       "      <td>2/28/2018</td>\n",
       "      <td>1</td>\n",
       "    </tr>\n",
       "    <tr>\n",
       "      <th>4</th>\n",
       "      <td>1</td>\n",
       "      <td>0</td>\n",
       "      <td>0</td>\n",
       "      <td>2</td>\n",
       "      <td>Meal Plan 1</td>\n",
       "      <td>0</td>\n",
       "      <td>Room_Type 1</td>\n",
       "      <td>211</td>\n",
       "      <td>Online</td>\n",
       "      <td>0</td>\n",
       "      <td>0</td>\n",
       "      <td>0</td>\n",
       "      <td>100.00</td>\n",
       "      <td>1</td>\n",
       "      <td>5/20/2017</td>\n",
       "      <td>1</td>\n",
       "    </tr>\n",
       "    <tr>\n",
       "      <th>5</th>\n",
       "      <td>1</td>\n",
       "      <td>0</td>\n",
       "      <td>1</td>\n",
       "      <td>2</td>\n",
       "      <td>Not Selected</td>\n",
       "      <td>0</td>\n",
       "      <td>Room_Type 1</td>\n",
       "      <td>48</td>\n",
       "      <td>Online</td>\n",
       "      <td>0</td>\n",
       "      <td>0</td>\n",
       "      <td>0</td>\n",
       "      <td>77.00</td>\n",
       "      <td>0</td>\n",
       "      <td>4/11/2018</td>\n",
       "      <td>1</td>\n",
       "    </tr>\n",
       "  </tbody>\n",
       "</table>\n",
       "</div>"
      ],
      "text/plain": [
       "   number of adults  number of children  number of weekend nights  \\\n",
       "1                 1                   1                         2   \n",
       "2                 1                   0                         1   \n",
       "3                 2                   1                         1   \n",
       "4                 1                   0                         0   \n",
       "5                 1                   0                         1   \n",
       "\n",
       "   number of week nights  type of meal  car parking space    room type  \\\n",
       "1                      5   Meal Plan 1                  0  Room_Type 1   \n",
       "2                      3  Not Selected                  0  Room_Type 1   \n",
       "3                      3   Meal Plan 1                  0  Room_Type 1   \n",
       "4                      2   Meal Plan 1                  0  Room_Type 1   \n",
       "5                      2  Not Selected                  0  Room_Type 1   \n",
       "\n",
       "   lead time market segment type  repeated  P-C  P-not-C  average price  \\\n",
       "1        224             Offline         0    0        0          88.00   \n",
       "2          5              Online         0    0        0         106.68   \n",
       "3          1              Online         0    0        0          50.00   \n",
       "4        211              Online         0    0        0         100.00   \n",
       "5         48              Online         0    0        0          77.00   \n",
       "\n",
       "   special requests date of reservation  booking status  \n",
       "1                 0           10/2/2015               0  \n",
       "2                 1           11/6/2018               0  \n",
       "3                 0           2/28/2018               1  \n",
       "4                 1           5/20/2017               1  \n",
       "5                 0           4/11/2018               1  "
      ]
     },
     "execution_count": 7,
     "metadata": {},
     "output_type": "execute_result"
    }
   ],
   "source": [
    "#encoding categorical variable: 'target'\n",
    "booking['booking status']= booking['booking status'].replace('Canceled', 1)\n",
    "booking['booking status']= booking['booking status'].replace('Not_Canceled', 0)\n",
    "\n",
    "booking.head()"
   ]
  },
  {
   "cell_type": "code",
   "execution_count": 8,
   "id": "6b057702",
   "metadata": {
    "execution": {
     "iopub.execute_input": "2024-10-23T13:21:17.947056Z",
     "iopub.status.busy": "2024-10-23T13:21:17.946603Z",
     "iopub.status.idle": "2024-10-23T13:21:18.015574Z",
     "shell.execute_reply": "2024-10-23T13:21:18.013833Z"
    },
    "papermill": {
     "duration": 0.080782,
     "end_time": "2024-10-23T13:21:18.018481",
     "exception": false,
     "start_time": "2024-10-23T13:21:17.937699",
     "status": "completed"
    },
    "tags": []
   },
   "outputs": [
    {
     "name": "stdout",
     "output_type": "stream",
     "text": [
      "<class 'pandas.core.frame.DataFrame'>\n",
      "Index: 33438 entries, 1 to 36285\n",
      "Data columns (total 18 columns):\n",
      " #   Column                    Non-Null Count  Dtype  \n",
      "---  ------                    --------------  -----  \n",
      " 0   number of adults          33438 non-null  int64  \n",
      " 1   number of children        33438 non-null  int64  \n",
      " 2   number of weekend nights  33438 non-null  int64  \n",
      " 3   number of week nights     33438 non-null  int64  \n",
      " 4   type of meal              33438 non-null  object \n",
      " 5   car parking space         33438 non-null  int64  \n",
      " 6   room type                 33438 non-null  object \n",
      " 7   lead time                 33438 non-null  int64  \n",
      " 8   market segment type       33438 non-null  object \n",
      " 9   repeated                  33438 non-null  int64  \n",
      " 10  P-C                       33438 non-null  int64  \n",
      " 11  P-not-C                   33438 non-null  int64  \n",
      " 12  average price             33438 non-null  float64\n",
      " 13  special requests          33438 non-null  int64  \n",
      " 14  booking status            33438 non-null  int64  \n",
      " 15  day                       33438 non-null  int32  \n",
      " 16  month                     33438 non-null  int32  \n",
      " 17  year                      33438 non-null  int32  \n",
      "dtypes: float64(1), int32(3), int64(11), object(3)\n",
      "memory usage: 4.5+ MB\n"
     ]
    }
   ],
   "source": [
    "booking = booking[~booking[\"date of reservation\"].str.contains(\"-\")]\n",
    "booking[\"date of reservation\"] = pd.to_datetime(booking[\"date of reservation\"])\n",
    "#remove dates with dashes & convert to time object\n",
    "\n",
    "booking[\"day\"] = booking[\"date of reservation\"].dt.day\n",
    "booking[\"month\"] = booking[\"date of reservation\"].dt.month\n",
    "booking[\"year\"] = booking[\"date of reservation\"].dt.year\n",
    "\n",
    "# Drop the original datetime column\n",
    "booking = booking.drop(columns=[\"date of reservation\"])\n",
    "booking.info()"
   ]
  },
  {
   "cell_type": "code",
   "execution_count": 9,
   "id": "a944d31f",
   "metadata": {
    "execution": {
     "iopub.execute_input": "2024-10-23T13:21:18.035757Z",
     "iopub.status.busy": "2024-10-23T13:21:18.035329Z",
     "iopub.status.idle": "2024-10-23T13:21:18.275611Z",
     "shell.execute_reply": "2024-10-23T13:21:18.274317Z"
    },
    "papermill": {
     "duration": 0.252899,
     "end_time": "2024-10-23T13:21:18.279177",
     "exception": false,
     "start_time": "2024-10-23T13:21:18.026278",
     "status": "completed"
    },
    "tags": []
   },
   "outputs": [
    {
     "name": "stdout",
     "output_type": "stream",
     "text": [
      "<class 'pandas.core.frame.DataFrame'>\n",
      "Index: 33438 entries, 1 to 36285\n",
      "Data columns (total 30 columns):\n",
      " #   Column                             Non-Null Count  Dtype\n",
      "---  ------                             --------------  -----\n",
      " 0   number of adults                   33438 non-null  int64\n",
      " 1   number of children                 33438 non-null  int64\n",
      " 2   number of weekend nights           33438 non-null  int64\n",
      " 3   number of week nights              33438 non-null  int64\n",
      " 4   car parking space                  33438 non-null  int64\n",
      " 5   lead time                          33438 non-null  int64\n",
      " 6   repeated                           33438 non-null  int64\n",
      " 7   P-C                                33438 non-null  int64\n",
      " 8   P-not-C                            33438 non-null  int64\n",
      " 9   average price                      33438 non-null  int64\n",
      " 10  special requests                   33438 non-null  int64\n",
      " 11  booking status                     33438 non-null  int64\n",
      " 12  day                                33438 non-null  int32\n",
      " 13  month                              33438 non-null  int32\n",
      " 14  year                               33438 non-null  int32\n",
      " 15  type of meal_Meal Plan 1           33438 non-null  int64\n",
      " 16  type of meal_Meal Plan 2           33438 non-null  int64\n",
      " 17  type of meal_Not Selected          33438 non-null  int64\n",
      " 18  room type_Room_Type 1              33438 non-null  int64\n",
      " 19  room type_Room_Type 2              33438 non-null  int64\n",
      " 20  room type_Room_Type 3              33438 non-null  int64\n",
      " 21  room type_Room_Type 4              33438 non-null  int64\n",
      " 22  room type_Room_Type 5              33438 non-null  int64\n",
      " 23  room type_Room_Type 6              33438 non-null  int64\n",
      " 24  room type_Room_Type 7              33438 non-null  int64\n",
      " 25  market segment type_Aviation       33438 non-null  int64\n",
      " 26  market segment type_Complementary  33438 non-null  int64\n",
      " 27  market segment type_Corporate      33438 non-null  int64\n",
      " 28  market segment type_Offline        33438 non-null  int64\n",
      " 29  market segment type_Online         33438 non-null  int64\n",
      "dtypes: int32(3), int64(27)\n",
      "memory usage: 7.5 MB\n",
      "None\n"
     ]
    },
    {
     "data": {
      "text/html": [
       "<div>\n",
       "<style scoped>\n",
       "    .dataframe tbody tr th:only-of-type {\n",
       "        vertical-align: middle;\n",
       "    }\n",
       "\n",
       "    .dataframe tbody tr th {\n",
       "        vertical-align: top;\n",
       "    }\n",
       "\n",
       "    .dataframe thead th {\n",
       "        text-align: right;\n",
       "    }\n",
       "</style>\n",
       "<table border=\"1\" class=\"dataframe\">\n",
       "  <thead>\n",
       "    <tr style=\"text-align: right;\">\n",
       "      <th></th>\n",
       "      <th>number of adults</th>\n",
       "      <th>number of children</th>\n",
       "      <th>number of weekend nights</th>\n",
       "      <th>number of week nights</th>\n",
       "      <th>car parking space</th>\n",
       "      <th>lead time</th>\n",
       "      <th>repeated</th>\n",
       "      <th>P-C</th>\n",
       "      <th>P-not-C</th>\n",
       "      <th>average price</th>\n",
       "      <th>...</th>\n",
       "      <th>room type_Room_Type 3</th>\n",
       "      <th>room type_Room_Type 4</th>\n",
       "      <th>room type_Room_Type 5</th>\n",
       "      <th>room type_Room_Type 6</th>\n",
       "      <th>room type_Room_Type 7</th>\n",
       "      <th>market segment type_Aviation</th>\n",
       "      <th>market segment type_Complementary</th>\n",
       "      <th>market segment type_Corporate</th>\n",
       "      <th>market segment type_Offline</th>\n",
       "      <th>market segment type_Online</th>\n",
       "    </tr>\n",
       "  </thead>\n",
       "  <tbody>\n",
       "    <tr>\n",
       "      <th>1</th>\n",
       "      <td>1</td>\n",
       "      <td>1</td>\n",
       "      <td>2</td>\n",
       "      <td>5</td>\n",
       "      <td>0</td>\n",
       "      <td>224</td>\n",
       "      <td>0</td>\n",
       "      <td>0</td>\n",
       "      <td>0</td>\n",
       "      <td>88</td>\n",
       "      <td>...</td>\n",
       "      <td>0</td>\n",
       "      <td>0</td>\n",
       "      <td>0</td>\n",
       "      <td>0</td>\n",
       "      <td>0</td>\n",
       "      <td>0</td>\n",
       "      <td>0</td>\n",
       "      <td>0</td>\n",
       "      <td>1</td>\n",
       "      <td>0</td>\n",
       "    </tr>\n",
       "    <tr>\n",
       "      <th>2</th>\n",
       "      <td>1</td>\n",
       "      <td>0</td>\n",
       "      <td>1</td>\n",
       "      <td>3</td>\n",
       "      <td>0</td>\n",
       "      <td>5</td>\n",
       "      <td>0</td>\n",
       "      <td>0</td>\n",
       "      <td>0</td>\n",
       "      <td>107</td>\n",
       "      <td>...</td>\n",
       "      <td>0</td>\n",
       "      <td>0</td>\n",
       "      <td>0</td>\n",
       "      <td>0</td>\n",
       "      <td>0</td>\n",
       "      <td>0</td>\n",
       "      <td>0</td>\n",
       "      <td>0</td>\n",
       "      <td>0</td>\n",
       "      <td>1</td>\n",
       "    </tr>\n",
       "    <tr>\n",
       "      <th>3</th>\n",
       "      <td>2</td>\n",
       "      <td>1</td>\n",
       "      <td>1</td>\n",
       "      <td>3</td>\n",
       "      <td>0</td>\n",
       "      <td>1</td>\n",
       "      <td>0</td>\n",
       "      <td>0</td>\n",
       "      <td>0</td>\n",
       "      <td>50</td>\n",
       "      <td>...</td>\n",
       "      <td>0</td>\n",
       "      <td>0</td>\n",
       "      <td>0</td>\n",
       "      <td>0</td>\n",
       "      <td>0</td>\n",
       "      <td>0</td>\n",
       "      <td>0</td>\n",
       "      <td>0</td>\n",
       "      <td>0</td>\n",
       "      <td>1</td>\n",
       "    </tr>\n",
       "    <tr>\n",
       "      <th>4</th>\n",
       "      <td>1</td>\n",
       "      <td>0</td>\n",
       "      <td>0</td>\n",
       "      <td>2</td>\n",
       "      <td>0</td>\n",
       "      <td>211</td>\n",
       "      <td>0</td>\n",
       "      <td>0</td>\n",
       "      <td>0</td>\n",
       "      <td>100</td>\n",
       "      <td>...</td>\n",
       "      <td>0</td>\n",
       "      <td>0</td>\n",
       "      <td>0</td>\n",
       "      <td>0</td>\n",
       "      <td>0</td>\n",
       "      <td>0</td>\n",
       "      <td>0</td>\n",
       "      <td>0</td>\n",
       "      <td>0</td>\n",
       "      <td>1</td>\n",
       "    </tr>\n",
       "    <tr>\n",
       "      <th>5</th>\n",
       "      <td>1</td>\n",
       "      <td>0</td>\n",
       "      <td>1</td>\n",
       "      <td>2</td>\n",
       "      <td>0</td>\n",
       "      <td>48</td>\n",
       "      <td>0</td>\n",
       "      <td>0</td>\n",
       "      <td>0</td>\n",
       "      <td>77</td>\n",
       "      <td>...</td>\n",
       "      <td>0</td>\n",
       "      <td>0</td>\n",
       "      <td>0</td>\n",
       "      <td>0</td>\n",
       "      <td>0</td>\n",
       "      <td>0</td>\n",
       "      <td>0</td>\n",
       "      <td>0</td>\n",
       "      <td>0</td>\n",
       "      <td>1</td>\n",
       "    </tr>\n",
       "  </tbody>\n",
       "</table>\n",
       "<p>5 rows × 30 columns</p>\n",
       "</div>"
      ],
      "text/plain": [
       "   number of adults  number of children  number of weekend nights  \\\n",
       "1                 1                   1                         2   \n",
       "2                 1                   0                         1   \n",
       "3                 2                   1                         1   \n",
       "4                 1                   0                         0   \n",
       "5                 1                   0                         1   \n",
       "\n",
       "   number of week nights  car parking space  lead time  repeated  P-C  \\\n",
       "1                      5                  0        224         0    0   \n",
       "2                      3                  0          5         0    0   \n",
       "3                      3                  0          1         0    0   \n",
       "4                      2                  0        211         0    0   \n",
       "5                      2                  0         48         0    0   \n",
       "\n",
       "   P-not-C  average price  ...  room type_Room_Type 3  room type_Room_Type 4  \\\n",
       "1        0             88  ...                      0                      0   \n",
       "2        0            107  ...                      0                      0   \n",
       "3        0             50  ...                      0                      0   \n",
       "4        0            100  ...                      0                      0   \n",
       "5        0             77  ...                      0                      0   \n",
       "\n",
       "   room type_Room_Type 5  room type_Room_Type 6  room type_Room_Type 7  \\\n",
       "1                      0                      0                      0   \n",
       "2                      0                      0                      0   \n",
       "3                      0                      0                      0   \n",
       "4                      0                      0                      0   \n",
       "5                      0                      0                      0   \n",
       "\n",
       "   market segment type_Aviation  market segment type_Complementary  \\\n",
       "1                             0                                  0   \n",
       "2                             0                                  0   \n",
       "3                             0                                  0   \n",
       "4                             0                                  0   \n",
       "5                             0                                  0   \n",
       "\n",
       "   market segment type_Corporate  market segment type_Offline  \\\n",
       "1                              0                            1   \n",
       "2                              0                            0   \n",
       "3                              0                            0   \n",
       "4                              0                            0   \n",
       "5                              0                            0   \n",
       "\n",
       "   market segment type_Online  \n",
       "1                           0  \n",
       "2                           1  \n",
       "3                           1  \n",
       "4                           1  \n",
       "5                           1  \n",
       "\n",
       "[5 rows x 30 columns]"
      ]
     },
     "execution_count": 9,
     "metadata": {},
     "output_type": "execute_result"
    }
   ],
   "source": [
    "booking[\"average price\"] = booking[\"average price\"].round().astype(int)\n",
    "#round to int\n",
    "#one hot encoding to variables of dtype 'object'\n",
    "object_columns= booking.select_dtypes(include=['object']).columns\n",
    "booking= pd.get_dummies(booking, columns= object_columns)\n",
    "booking= booking.replace({True:1, False:0})\n",
    "print(booking.info())\n",
    "booking.head()\n"
   ]
  },
  {
   "cell_type": "code",
   "execution_count": 10,
   "id": "e9171360",
   "metadata": {
    "execution": {
     "iopub.execute_input": "2024-10-23T13:21:18.297565Z",
     "iopub.status.busy": "2024-10-23T13:21:18.297139Z",
     "iopub.status.idle": "2024-10-23T13:21:18.341317Z",
     "shell.execute_reply": "2024-10-23T13:21:18.339785Z"
    },
    "papermill": {
     "duration": 0.056306,
     "end_time": "2024-10-23T13:21:18.343828",
     "exception": false,
     "start_time": "2024-10-23T13:21:18.287522",
     "status": "completed"
    },
    "tags": []
   },
   "outputs": [
    {
     "name": "stdout",
     "output_type": "stream",
     "text": [
      "lead time: 6933.78\n",
      "special requests: 2168.84\n",
      "year: 974.02\n",
      "average price: 632.02\n",
      "market segment type_Online: 606.17\n",
      "market segment type_Corporate: 423.34\n",
      "repeated: 348.43\n",
      "number of week nights: 254.00\n",
      "market segment type_Offline: 221.38\n",
      "car parking space: 218.93\n"
     ]
    }
   ],
   "source": [
    "#feature selection\n",
    "features= booking.drop(['booking status'], axis=1)\n",
    "target= booking['booking status']\n",
    "k_best= SelectKBest(score_func=f_classif, k=10)\n",
    "\n",
    "X= k_best.fit_transform(features, target)\n",
    "y= target\n",
    "\n",
    "#indices of the selected features\n",
    "selected_features_indices = k_best.get_support(indices=True)\n",
    "\n",
    "#scores associated with each feature\n",
    "feature_scores = k_best.scores_\n",
    "\n",
    "#list of tuples containing feature names and scores\n",
    "feature_info = list(zip(features.columns, feature_scores))\n",
    "\n",
    "# Sort features based on scores\n",
    "sorted_feature_info = sorted(feature_info, key=lambda x: x[1], reverse=True)\n",
    "\n",
    "for feature_name, feature_score in sorted_feature_info[:10]:\n",
    "    print(f\"{feature_name}: {feature_score:.2f}\")"
   ]
  },
  {
   "cell_type": "code",
   "execution_count": 11,
   "id": "4551746d",
   "metadata": {
    "execution": {
     "iopub.execute_input": "2024-10-23T13:21:18.363010Z",
     "iopub.status.busy": "2024-10-23T13:21:18.362019Z",
     "iopub.status.idle": "2024-10-23T13:21:18.379132Z",
     "shell.execute_reply": "2024-10-23T13:21:18.377703Z"
    },
    "papermill": {
     "duration": 0.02975,
     "end_time": "2024-10-23T13:21:18.382020",
     "exception": false,
     "start_time": "2024-10-23T13:21:18.352270",
     "status": "completed"
    },
    "tags": []
   },
   "outputs": [
    {
     "data": {
      "text/html": [
       "<div>\n",
       "<style scoped>\n",
       "    .dataframe tbody tr th:only-of-type {\n",
       "        vertical-align: middle;\n",
       "    }\n",
       "\n",
       "    .dataframe tbody tr th {\n",
       "        vertical-align: top;\n",
       "    }\n",
       "\n",
       "    .dataframe thead th {\n",
       "        text-align: right;\n",
       "    }\n",
       "</style>\n",
       "<table border=\"1\" class=\"dataframe\">\n",
       "  <thead>\n",
       "    <tr style=\"text-align: right;\">\n",
       "      <th></th>\n",
       "      <th>number of week nights</th>\n",
       "      <th>car parking space</th>\n",
       "      <th>lead time</th>\n",
       "      <th>repeated</th>\n",
       "      <th>average price</th>\n",
       "      <th>special requests</th>\n",
       "      <th>year</th>\n",
       "      <th>market segment type_Corporate</th>\n",
       "      <th>market segment type_Offline</th>\n",
       "      <th>market segment type_Online</th>\n",
       "    </tr>\n",
       "  </thead>\n",
       "  <tbody>\n",
       "    <tr>\n",
       "      <th>1</th>\n",
       "      <td>5</td>\n",
       "      <td>0</td>\n",
       "      <td>224</td>\n",
       "      <td>0</td>\n",
       "      <td>88</td>\n",
       "      <td>0</td>\n",
       "      <td>2015</td>\n",
       "      <td>0</td>\n",
       "      <td>1</td>\n",
       "      <td>0</td>\n",
       "    </tr>\n",
       "    <tr>\n",
       "      <th>2</th>\n",
       "      <td>3</td>\n",
       "      <td>0</td>\n",
       "      <td>5</td>\n",
       "      <td>0</td>\n",
       "      <td>107</td>\n",
       "      <td>1</td>\n",
       "      <td>2018</td>\n",
       "      <td>0</td>\n",
       "      <td>0</td>\n",
       "      <td>1</td>\n",
       "    </tr>\n",
       "    <tr>\n",
       "      <th>3</th>\n",
       "      <td>3</td>\n",
       "      <td>0</td>\n",
       "      <td>1</td>\n",
       "      <td>0</td>\n",
       "      <td>50</td>\n",
       "      <td>0</td>\n",
       "      <td>2018</td>\n",
       "      <td>0</td>\n",
       "      <td>0</td>\n",
       "      <td>1</td>\n",
       "    </tr>\n",
       "    <tr>\n",
       "      <th>4</th>\n",
       "      <td>2</td>\n",
       "      <td>0</td>\n",
       "      <td>211</td>\n",
       "      <td>0</td>\n",
       "      <td>100</td>\n",
       "      <td>1</td>\n",
       "      <td>2017</td>\n",
       "      <td>0</td>\n",
       "      <td>0</td>\n",
       "      <td>1</td>\n",
       "    </tr>\n",
       "    <tr>\n",
       "      <th>5</th>\n",
       "      <td>2</td>\n",
       "      <td>0</td>\n",
       "      <td>48</td>\n",
       "      <td>0</td>\n",
       "      <td>77</td>\n",
       "      <td>0</td>\n",
       "      <td>2018</td>\n",
       "      <td>0</td>\n",
       "      <td>0</td>\n",
       "      <td>1</td>\n",
       "    </tr>\n",
       "  </tbody>\n",
       "</table>\n",
       "</div>"
      ],
      "text/plain": [
       "   number of week nights  car parking space  lead time  repeated  \\\n",
       "1                      5                  0        224         0   \n",
       "2                      3                  0          5         0   \n",
       "3                      3                  0          1         0   \n",
       "4                      2                  0        211         0   \n",
       "5                      2                  0         48         0   \n",
       "\n",
       "   average price  special requests  year  market segment type_Corporate  \\\n",
       "1             88                 0  2015                              0   \n",
       "2            107                 1  2018                              0   \n",
       "3             50                 0  2018                              0   \n",
       "4            100                 1  2017                              0   \n",
       "5             77                 0  2018                              0   \n",
       "\n",
       "   market segment type_Offline  market segment type_Online  \n",
       "1                            1                           0  \n",
       "2                            0                           1  \n",
       "3                            0                           1  \n",
       "4                            0                           1  \n",
       "5                            0                           1  "
      ]
     },
     "execution_count": 11,
     "metadata": {},
     "output_type": "execute_result"
    }
   ],
   "source": [
    "selected_features_df = features.iloc[:, selected_features_indices]\n",
    "selected_features_df.head()"
   ]
  },
  {
   "cell_type": "code",
   "execution_count": 12,
   "id": "a1c1edb2",
   "metadata": {
    "execution": {
     "iopub.execute_input": "2024-10-23T13:21:18.401737Z",
     "iopub.status.busy": "2024-10-23T13:21:18.400662Z",
     "iopub.status.idle": "2024-10-23T13:21:18.512523Z",
     "shell.execute_reply": "2024-10-23T13:21:18.511142Z"
    },
    "papermill": {
     "duration": 0.1246,
     "end_time": "2024-10-23T13:21:18.515296",
     "exception": false,
     "start_time": "2024-10-23T13:21:18.390696",
     "status": "completed"
    },
    "tags": []
   },
   "outputs": [],
   "source": [
    "#split data\n",
    "X_train, X_test, y_train, y_test = train_test_split(\n",
    "    X, target, test_size=0.2, random_state=42\n",
    ")\n",
    "\n",
    "from sklearn.model_selection import GridSearchCV\n",
    "from sklearn.linear_model import LogisticRegression\n",
    "from sklearn.neighbors import KNeighborsClassifier\n",
    "from sklearn.tree import DecisionTreeClassifier\n",
    "from sklearn.ensemble import RandomForestClassifier\n",
    "from sklearn.svm import SVC\n",
    "from sklearn.metrics import accuracy_score, confusion_matrix, classification_report\n",
    "\n",
    "scores = {} #map model to its scores"
   ]
  },
  {
   "cell_type": "code",
   "execution_count": 13,
   "id": "fabef179",
   "metadata": {
    "execution": {
     "iopub.execute_input": "2024-10-23T13:21:18.534908Z",
     "iopub.status.busy": "2024-10-23T13:21:18.533941Z",
     "iopub.status.idle": "2024-10-23T13:21:24.621340Z",
     "shell.execute_reply": "2024-10-23T13:21:24.620058Z"
    },
    "papermill": {
     "duration": 6.100315,
     "end_time": "2024-10-23T13:21:24.624209",
     "exception": false,
     "start_time": "2024-10-23T13:21:18.523894",
     "status": "completed"
    },
    "tags": []
   },
   "outputs": [
    {
     "name": "stdout",
     "output_type": "stream",
     "text": [
      "Best Parameters: {'C': 100, 'penalty': 'l2'}\n",
      "Best Score: 0.7975700934579439\n",
      "Accuracy: 0.79\n",
      "Confusion Matrix: \n",
      "[[4139  482]\n",
      " [ 903 1164]]\n"
     ]
    },
    {
     "data": {
      "text/plain": [
       "<Axes: >"
      ]
     },
     "execution_count": 13,
     "metadata": {},
     "output_type": "execute_result"
    },
    {
     "data": {
      "image/png": "[encoded data removed]",
      "text/plain": [
       "<Figure size 640x480 with 2 Axes>"
      ]
     },
     "metadata": {},
     "output_type": "display_data"
    }
   ],
   "source": [
    "log_reg = LogisticRegression()\n",
    "\n",
    "params = {\"C\": [0.01, 0.1, 1, 10, 100], \"penalty\": [\"l1\", \"l2\"]}\n",
    "\n",
    "grid_search = GridSearchCV(log_reg, param_grid=params, cv=5)\n",
    "grid_search.fit(X_train, y_train)\n",
    "\n",
    "print(f\"Best Parameters: {grid_search.best_params_}\")\n",
    "print(f\"Best Score: {grid_search.best_score_}\")\n",
    "\n",
    "best_log_reg = grid_search.best_estimator_ #retreives best model\n",
    "\n",
    "y_pred = best_log_reg.predict(X_test)\n",
    "\n",
    "print(f\"Accuracy: {accuracy_score(y_test, y_pred):.2f}\")\n",
    "scores[\"Logistic Regression\"] = accuracy_score(y_test, y_pred)\n",
    "\n",
    "print(f\"Confusion Matrix: \\n{confusion_matrix(y_test, y_pred)}\")\n",
    "sns.heatmap(confusion_matrix(y_test, y_pred), annot=True, cmap=\"Blues\", fmt=\".0f\")"
   ]
  },
  {
   "cell_type": "code",
   "execution_count": 14,
   "id": "f654e314",
   "metadata": {
    "execution": {
     "iopub.execute_input": "2024-10-23T13:21:24.645189Z",
     "iopub.status.busy": "2024-10-23T13:21:24.644333Z",
     "iopub.status.idle": "2024-10-23T13:21:41.995328Z",
     "shell.execute_reply": "2024-10-23T13:21:41.994119Z"
    },
    "papermill": {
     "duration": 17.364213,
     "end_time": "2024-10-23T13:21:41.997912",
     "exception": false,
     "start_time": "2024-10-23T13:21:24.633699",
     "status": "completed"
    },
    "tags": []
   },
   "outputs": [
    {
     "name": "stdout",
     "output_type": "stream",
     "text": [
      "Best Parameters: {'n_neighbors': 2}\n",
      "Accuracy: 0.83\n",
      "Confusion Matrix: \n",
      "[[4379  242]\n",
      " [ 908 1159]]\n"
     ]
    },
    {
     "data": {
      "text/plain": [
       "<Axes: >"
      ]
     },
     "execution_count": 14,
     "metadata": {},
     "output_type": "execute_result"
    },
    {
     "data": {
      "image/png": "[encoded data removed]",
      "text/plain": [
       "<Figure size 640x480 with 2 Axes>"
      ]
     },
     "metadata": {},
     "output_type": "display_data"
    }
   ],
   "source": [
    "knn = KNeighborsClassifier()\n",
    "\n",
    "params = {\"n_neighbors\": np.arange(1, 10)}\n",
    "\n",
    "grid_search = GridSearchCV(knn, param_grid=params, cv=5)\n",
    "grid_search.fit(X_train, y_train)\n",
    "\n",
    "print(f\"Best Parameters: {grid_search.best_params_}\")\n",
    "\n",
    "best_knn = grid_search.best_estimator_\n",
    "\n",
    "y_pred = best_knn.predict(X_test)\n",
    "\n",
    "print(f\"Accuracy: {accuracy_score(y_test, y_pred):.2f}\")\n",
    "scores[\"KNN\"] = accuracy_score(y_test, y_pred)\n",
    "\n",
    "print(f\"Confusion Matrix: \\n{confusion_matrix(y_test, y_pred)}\")\n",
    "sns.heatmap(confusion_matrix(y_test, y_pred), annot=True, cmap=\"Blues\", fmt=\".0f\")"
   ]
  },
  {
   "cell_type": "code",
   "execution_count": 15,
   "id": "7ba7ba61",
   "metadata": {
    "execution": {
     "iopub.execute_input": "2024-10-23T13:21:42.019905Z",
     "iopub.status.busy": "2024-10-23T13:21:42.019412Z",
     "iopub.status.idle": "2024-10-23T13:21:45.832516Z",
     "shell.execute_reply": "2024-10-23T13:21:45.831258Z"
    },
    "papermill": {
     "duration": 3.826809,
     "end_time": "2024-10-23T13:21:45.834741",
     "exception": false,
     "start_time": "2024-10-23T13:21:42.007932",
     "status": "completed"
    },
    "tags": []
   },
   "outputs": [
    {
     "name": "stdout",
     "output_type": "stream",
     "text": [
      "Best Parameters: {'criterion': 'entropy', 'max_depth': 15}\n",
      "Accuracy: 0.86\n",
      "Confusion Matrix: \n",
      "[[4215  406]\n",
      " [ 522 1545]]\n"
     ]
    },
    {
     "data": {
      "text/plain": [
       "<Axes: >"
      ]
     },
     "execution_count": 15,
     "metadata": {},
     "output_type": "execute_result"
    },
    {
     "data": {
      "image/png": "[encoded data removed]",
      "text/plain": [
       "<Figure size 640x480 with 2 Axes>"
      ]
     },
     "metadata": {},
     "output_type": "display_data"
    }
   ],
   "source": [
    "dt = DecisionTreeClassifier()\n",
    "\n",
    "params = {\"max_depth\": np.arange(0, 30, 5), \"criterion\": [\"gini\", \"entropy\"]}\n",
    "#max levels in tree:30 with step:5\n",
    "\n",
    "grid_search = GridSearchCV(dt, param_grid=params, cv=5)\n",
    "grid_search.fit(X_train, y_train)\n",
    "\n",
    "print(f\"Best Parameters: {grid_search.best_params_}\")\n",
    "\n",
    "best_dt = grid_search.best_estimator_\n",
    "\n",
    "y_pred = best_dt.predict(X_test)\n",
    "\n",
    "print(f\"Accuracy: {accuracy_score(y_test, y_pred):.2f}\")\n",
    "scores[\"Decision Tree\"] = accuracy_score(y_test, y_pred)\n",
    "\n",
    "print(f\"Confusion Matrix: \\n{confusion_matrix(y_test, y_pred)}\")\n",
    "sns.heatmap(confusion_matrix(y_test, y_pred), annot=True, cmap=\"Blues\", fmt=\".0f\")"
   ]
  },
  {
   "cell_type": "code",
   "execution_count": 16,
   "id": "0bcd383f",
   "metadata": {
    "execution": {
     "iopub.execute_input": "2024-10-23T13:21:45.857916Z",
     "iopub.status.busy": "2024-10-23T13:21:45.857472Z",
     "iopub.status.idle": "2024-10-23T13:21:48.077498Z",
     "shell.execute_reply": "2024-10-23T13:21:48.076274Z"
    },
    "papermill": {
     "duration": 2.235232,
     "end_time": "2024-10-23T13:21:48.080529",
     "exception": false,
     "start_time": "2024-10-23T13:21:45.845297",
     "status": "completed"
    },
    "tags": []
   },
   "outputs": [
    {
     "name": "stdout",
     "output_type": "stream",
     "text": [
      "Accuracy: 0.88\n",
      "Confusion Matrix: \n",
      "[[4306  315]\n",
      " [ 489 1578]]\n"
     ]
    },
    {
     "data": {
      "text/plain": [
       "<Axes: >"
      ]
     },
     "execution_count": 16,
     "metadata": {},
     "output_type": "execute_result"
    },
    {
     "data": {
      "image/png": "[encoded data removed]",
      "text/plain": [
       "<Figure size 640x480 with 2 Axes>"
      ]
     },
     "metadata": {},
     "output_type": "display_data"
    }
   ],
   "source": [
    "rf = RandomForestClassifier(max_depth=20, n_estimators=50)\n",
    "\n",
    "rf.fit(X_train, y_train)\n",
    "\n",
    "y_pred = rf.predict(X_test)\n",
    "\n",
    "print(f\"Accuracy: {accuracy_score(y_test, y_pred):.2f}\")\n",
    "scores[\"Random Forest\"] = accuracy_score(y_test, y_pred)\n",
    "\n",
    "print(f\"Confusion Matrix: \\n{confusion_matrix(y_test, y_pred)}\")\n",
    "sns.heatmap(confusion_matrix(y_test, y_pred), annot=True, cmap=\"Blues\", fmt=\".0f\")"
   ]
  },
  {
   "cell_type": "code",
   "execution_count": 17,
   "id": "cd991fdc",
   "metadata": {
    "execution": {
     "iopub.execute_input": "2024-10-23T13:21:48.114268Z",
     "iopub.status.busy": "2024-10-23T13:21:48.113291Z",
     "iopub.status.idle": "2024-10-23T13:21:48.120602Z",
     "shell.execute_reply": "2024-10-23T13:21:48.119508Z"
    },
    "papermill": {
     "duration": 0.025637,
     "end_time": "2024-10-23T13:21:48.123094",
     "exception": false,
     "start_time": "2024-10-23T13:21:48.097457",
     "status": "completed"
    },
    "tags": []
   },
   "outputs": [
    {
     "name": "stdout",
     "output_type": "stream",
     "text": [
      "Logistic Regression: 0.7929\n",
      "KNN: 0.8281\n",
      "Decision Tree: 0.8612\n",
      "Random Forest: 0.8798\n"
     ]
    }
   ],
   "source": [
    "#comparison of models used\n",
    "for model,score in scores.items():\n",
    "    print(f\"{model}: {score:.4f}\")"
   ]
  }
 ],
 "metadata": {
  "kaggle": {
   "accelerator": "none",
   "dataSources": [
    {
     "datasetId": 4098886,
     "sourceId": 7109261,
     "sourceType": "datasetVersion"
    }
   ],
   "dockerImageVersionId": 30786,
   "isGpuEnabled": false,
   "isInternetEnabled": false,
   "language": "python",
   "sourceType": "notebook"
  },
  "kernelspec": {
   "display_name": "Python 3",
   "language": "python",
   "name": "python3"
  },
  "language_info": {
   "codemirror_mode": {
    "name": "ipython",
    "version": 3
   },
   "file_extension": ".py",
   "mimetype": "text/x-python",
   "name": "python",
   "nbconvert_exporter": "python",
   "pygments_lexer": "ipython3",
   "version": "3.10.14"
  },
  "papermill": {
   "default_parameters": {},
   "duration": 38.146437,
   "end_time": "2024-10-23T13:21:48.756474",
   "environment_variables": {},
   "exception": null,
   "input_path": "__notebook__.ipynb",
   "output_path": "__notebook__.ipynb",
   "parameters": {},
   "start_time": "2024-10-23T13:21:10.610037",
   "version": "2.6.0"
  }
 },
 "nbformat": 4,
 "nbformat_minor": 5
}
